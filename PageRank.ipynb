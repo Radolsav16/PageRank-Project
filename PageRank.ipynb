{
 "cells": [
  {
   "cell_type": "markdown",
   "id": "239ea30f-06a6-4e9d-b0ff-d07c055213ef",
   "metadata": {},
   "source": [
    "#  **PageRank**:  _The Math Behind Google Search_"
   ]
  },
  {
   "cell_type": "markdown",
   "id": "61543cb1-abe3-4faa-a627-cf4090c5d89a",
   "metadata": {},
   "source": [
    "---"
   ]
  },
  {
   "cell_type": "markdown",
   "id": "6bc18f26-5c0b-4586-ab7d-f8527ca5aa4a",
   "metadata": {},
   "source": [
    "## **Abstract**"
   ]
  },
  {
   "cell_type": "markdown",
   "id": "b7cbfe2d-721e-4794-9bda-b742f000ab61",
   "metadata": {},
   "source": [
    "**How does Google decide which web pages appear first in your search results?**\n",
    "\n",
    "Answer is **PageRank** algorithm, which is used by Google Search to rank web pages in their search engine results. It's use ideas from graph theory, linear algebra, and probability to model the importance of web pages based on their links.Originally developed by Larry Page and Sergey Brin at Stanford, **PageRank** was the foundation of Google's early success.\n",
    "\n",
    "This project explores and explain the **mathematics**,**code** and **general idea** behind the algorithm, implements it step by step using **Python**, and visualizes how different web structures influence the final rankings. Along the way, I highlight the elegance of applying **eigenvectors**, **stochastic matrices**, and the **random surfer model** to real-world problems. By demystifying PageRank, we gain insight into the intersection of **math**, **data**, and the **internet**.\n"
   ]
  },
  {
   "cell_type": "markdown",
   "id": "59d9912c-e330-4370-8003-f5836a2db11c",
   "metadata": {},
   "source": [
    "---"
   ]
  },
  {
   "cell_type": "markdown",
   "id": "66ddfeb7-13a4-4793-b5a0-040108db5c3d",
   "metadata": {},
   "source": [
    " ## **Why PageRank is important?**"
   ]
  },
  {
   "cell_type": "markdown",
   "id": "b1e57caa-9a18-4606-8447-d1292f192de0",
   "metadata": {},
   "source": [
    "PageRank was one of the first real-world algorithms to show how *mathematics and graph theory* can be used to navigate the complex structure of the web. It also demonstrates how pure math can have massive practical impact — affecting **billions of users** every day. Understanding **PageRank** gives us a deeper appreciation for applied **mathematics** in **data science**, **search engines**, **recommendation systems**, and **network analysis**."
   ]
  },
  {
   "cell_type": "markdown",
   "id": "c3e08e0e-424d-4d7a-ae87-fcaaa68203a2",
   "metadata": {},
   "source": [
    "---"
   ]
  },
  {
   "cell_type": "markdown",
   "id": "887c6fa5-7e09-4978-9a10-905d103838eb",
   "metadata": {},
   "source": [
    "# **Itroduction**"
   ]
  },
  {
   "cell_type": "markdown",
   "id": "f9b4c6d1-bda7-4556-97a1-ab7e00792ae1",
   "metadata": {},
   "source": [
    "## **History of PageRank**"
   ]
  },
  {
   "cell_type": "markdown",
   "id": "49d923b7-aa0b-4e89-88d9-e43685424fd4",
   "metadata": {},
   "source": [
    "A search engine called **RankDex** from IDD Information Services, designed by **Robin Li** in 1996, developed a strategy for site-scoring and page-ranking.It was one of the first search engines to use **link analysis**-which is ranking the popularity of a web site based on how many other sites had linked to it for ranking pages meaning it also considered hyperlink structure, not just keywords.**RankDex**, the first search engine with page-ranking and site-scoring algorithms, was launched in 1996.**Li** filed a patent for the technology in **RankDex** in 1997.It was granted in 1999.He later used it when he founded Baidu in China in 2000.Google founder **Larry Page** referenced **Li's work** as a citation in some of his U.S. patents for **PageRank**.\n",
    "**Larry Page** and **Sergey Brin** developed **PageRank** at Stanford University in 1996 as part of a research project about a new kind of search engine. An interview with Héctor García-Molina, Stanford Computer Science professor and advisor to Sergey,provides background into the development of the page-rank algorithm.Sergey Brin had the idea that information on the web could be ordered in a hierarchy by **link popularity**-a page ranks higher as there are more links to it.The system was developed with the help of Scott Hassan and Alan Steremberg, both of whom were cited by Page and Brin as being critical to the development of Google. Rajeev Motwani and Terry Winograd co-authored with Page and Brin the first paper about the project, describing **PageRank** and the initial prototype of the [Google search engine](https://en.wikipedia.org/wiki/Google_Search), published in 1998.\n",
    "> 📜 [*\"The Anatomy of a Large-Scale Hypertextual Web Search Engine\"*](http://infolab.stanford.edu/pub/papers/google.pdf)\n",
    "\n",
    "Shortly after, Page and Brin founded **Google** -the company behind the Google search engine. While just one of many factors that determine the ranking of Google search results, **PageRank** continues to provide the basis for all of Google's web-search tools.The name **PageRank** plays on the name of developer **Larry Page**, as well as of the concept of a web page.The word is a trademark of Google, and the **PageRank** process has been patented assigned to **Stanford University** and not to Google.Google has exclusive license rights on the patent from **Stanford University**. The university received **1.8 million** shares of Google in exchange for use of the patent.It sold the shares in 2005 for **$336 million**."
   ]
  },
  {
   "cell_type": "markdown",
   "id": "78278445-8f0b-402b-9b90-50ff7ceb48eb",
   "metadata": {},
   "source": [
    "---"
   ]
  },
  {
   "cell_type": "markdown",
   "id": "f955335b-5b6a-4d5c-b9e4-0685d07e9940",
   "metadata": {},
   "source": [
    "## 📜 **The Anatomy of Large-Scale Hypertextual Web Searxh Engine** - *Fondational Paper*"
   ]
  },
  {
   "cell_type": "code",
   "execution_count": null,
   "id": "657a706e-4b10-41f7-a6f2-bf52a9325d96",
   "metadata": {},
   "outputs": [],
   "source": []
  }
 ],
 "metadata": {
  "kernelspec": {
   "display_name": "Python [conda env:base] *",
   "language": "python",
   "name": "conda-base-py"
  },
  "language_info": {
   "codemirror_mode": {
    "name": "ipython",
    "version": 3
   },
   "file_extension": ".py",
   "mimetype": "text/x-python",
   "name": "python",
   "nbconvert_exporter": "python",
   "pygments_lexer": "ipython3",
   "version": "3.12.7"
  }
 },
 "nbformat": 4,
 "nbformat_minor": 5
}
