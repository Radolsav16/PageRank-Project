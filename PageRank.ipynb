{
 "cells": [
  {
   "cell_type": "markdown",
   "id": "239ea30f-06a6-4e9d-b0ff-d07c055213ef",
   "metadata": {},
   "source": [
    "#  **PageRank**:  _The Math Behind Google Search_"
   ]
  },
  {
   "cell_type": "markdown",
   "id": "61543cb1-abe3-4faa-a627-cf4090c5d89a",
   "metadata": {},
   "source": [
    "---"
   ]
  },
  {
   "cell_type": "markdown",
   "id": "ae26463d-447e-4f95-8c6b-789148e3f6c4",
   "metadata": {},
   "source": [
    "# **Itroduction**"
   ]
  },
  {
   "cell_type": "markdown",
   "id": "6bc18f26-5c0b-4586-ab7d-f8527ca5aa4a",
   "metadata": {},
   "source": [
    "## **Abstract**"
   ]
  },
  {
   "cell_type": "markdown",
   "id": "b7cbfe2d-721e-4794-9bda-b742f000ab61",
   "metadata": {},
   "source": [
    "**How does Google decide which web pages appear first in your search results?**\n",
    "\n",
    "Answer is **PageRank** algorithm, which is used by Google Search to rank web pages in their search engine results. It's use ideas from graph theory, linear algebra, and probability to model the importance of web pages based on their links.Originally developed by Larry Page and Sergey Brin at Stanford, **PageRank** was the foundation of Google's early success.\n",
    "\n",
    "This project explores and explain the **mathematics**,**code** and **general idea** behind the algorithm, implements it step by step using **Python**, and visualizes how different web structures influence the final rankings. Along the way, I highlight the elegance of applying **eigenvectors**, **stochastic matrices**, and the **random surfer model** to real-world problems. By demystifying PageRank, we gain insight into the intersection of **math**, **data**, and the **internet**.\n"
   ]
  },
  {
   "cell_type": "markdown",
   "id": "59d9912c-e330-4370-8003-f5836a2db11c",
   "metadata": {},
   "source": [
    "---"
   ]
  },
  {
   "cell_type": "markdown",
   "id": "66ddfeb7-13a4-4793-b5a0-040108db5c3d",
   "metadata": {},
   "source": [
    " ## **Why PageRank is important?**"
   ]
  },
  {
   "cell_type": "markdown",
   "id": "b1e57caa-9a18-4606-8447-d1292f192de0",
   "metadata": {},
   "source": [
    "PageRank was one of the first real-world algorithms to show how *mathematics and graph theory* can be used to navigate the complex structure of the web. It also demonstrates how pure math can have massive practical impact — affecting **billions of users** every day. Understanding **PageRank** gives us a deeper appreciation for applied **mathematics** in **data science**, **search engines**, **recommendation systems**, and **network analysis**."
   ]
  },
  {
   "cell_type": "markdown",
   "id": "c3e08e0e-424d-4d7a-ae87-fcaaa68203a2",
   "metadata": {},
   "source": [
    "---"
   ]
  },
  {
   "cell_type": "markdown",
   "id": "05248b3e-99df-4218-ae26-4a9b95b1b194",
   "metadata": {},
   "source": [
    "## **The Problem of Web Search Before PageRank?**"
   ]
  },
  {
   "cell_type": "markdown",
   "id": "e06dba75-2237-4c0b-a16c-e99acb980323",
   "metadata": {},
   "source": [
    "Before Google and the introduction of PageRank, web search engines struggled to deliver high-quality, relevant results. As the internet rapidly expanded during the 1990s, the number of web pages grew into the millions, then billions — but search technology failed to keep up with that growth in a meaningful way."
   ]
  },
  {
   "cell_type": "markdown",
   "id": "35a6a140-91f2-4129-bc99-433644959808",
   "metadata": {},
   "source": [
    "Most early search engines (like AltaVista, Lycos, and Excite) relied heavily on simple keyword matching to retrieve results. They would look for pages that contained the same words as the user's query, and rank them based on factors like:\n",
    "\n",
    "Frequency of the keyword\n",
    "\n",
    "Location of the keyword (e.g., title or body)\n",
    "\n",
    "Basic metadata\n",
    "\n",
    "While this approach was easy to implement, it had major weaknesses:\n",
    "\n",
    "It was easy to manipulate (via keyword stuffing).\n",
    "\n",
    "It treated all pages as equally trustworthy or important.\n",
    "\n",
    "It didn’t consider how humans value content — through references and links."
   ]
  },
  {
   "cell_type": "markdown",
   "id": "59a787ed-24b3-4199-b3f5-16045bfdee87",
   "metadata": {},
   "source": [
    "There was no good way to determine which pages were actually important or trustworthy. A personal blog and a university website could rank equally if they both mentioned the same keywords.\n",
    "\n",
    "This meant that relevance and quality often suffered.\n",
    "\n",
    "Search engines needed a way to:\n",
    "\n",
    "Filter spammy or low-quality pages\n",
    "\n",
    "Highlight content that was trusted or referenced by others\n",
    "\n",
    "Deliver more objective and useful results for users\n",
    "\n",
    "This set the stage for a fundamentally new idea: using link structure to infer page importance — the idea behind PageRank."
   ]
  },
  {
   "cell_type": "markdown",
   "id": "75369061-853d-4719-92aa-8ed02471bf29",
   "metadata": {},
   "source": [
    "---"
   ]
  },
  {
   "cell_type": "markdown",
   "id": "f9b4c6d1-bda7-4556-97a1-ab7e00792ae1",
   "metadata": {},
   "source": [
    "## **History of PageRank**"
   ]
  },
  {
   "cell_type": "markdown",
   "id": "49d923b7-aa0b-4e89-88d9-e43685424fd4",
   "metadata": {},
   "source": [
    "A search engine called **RankDex** from IDD Information Services, designed by **Robin Li** in 1996, developed a strategy for site-scoring and page-ranking.It was one of the first search engines to use **link analysis**-which is ranking the popularity of a web site based on how many other sites had linked to it for ranking pages meaning it also considered hyperlink structure, not just keywords.**RankDex**, the first search engine with page-ranking and site-scoring algorithms, was launched in 1996.**Li** filed a patent for the technology in **RankDex** in 1997.It was granted in 1999.He later used it when he founded Baidu in China in 2000.Google founder **Larry Page** referenced **Li's work** as a citation in some of his U.S. patents for **PageRank**.\n",
    "**Larry Page** and **Sergey Brin** developed **PageRank** at Stanford University in 1996 as part of a research project about a new kind of search engine. An interview with Héctor García-Molina, Stanford Computer Science professor and advisor to Sergey,provides background into the development of the page-rank algorithm.Sergey Brin had the idea that information on the web could be ordered in a hierarchy by **link popularity**-a page ranks higher as there are more links to it.The system was developed with the help of Scott Hassan and Alan Steremberg, both of whom were cited by Page and Brin as being critical to the development of Google. Rajeev Motwani and Terry Winograd co-authored with Page and Brin the first paper about the project, describing **PageRank** and the initial prototype of the [Google search engine](https://en.wikipedia.org/wiki/Google_Search), published in 1998.\n",
    "> 📜 [*\"The Anatomy of a Large-Scale Hypertextual Web Search Engine\"*](http://infolab.stanford.edu/pub/papers/google.pdf)\n",
    "\n",
    "Shortly after, Page and Brin founded **Google** -the company behind the Google search engine. While just one of many factors that determine the ranking of Google search results, **PageRank** continues to provide the basis for all of Google's web-search tools.The name **PageRank** plays on the name of developer **Larry Page**, as well as of the concept of a web page.The word is a trademark of Google, and the **PageRank** process has been patented assigned to **Stanford University** and not to Google.Google has exclusive license rights on the patent from **Stanford University**. The university received **1.8 million** shares of Google in exchange for use of the patent.It sold the shares in 2005 for **$336 million**."
   ]
  },
  {
   "cell_type": "markdown",
   "id": "d66ca977-f336-4f5d-bd28-784f6bb4e25c",
   "metadata": {},
   "source": [
    "## 📜 Timeline: Evolution of Web Search and the Birth of PageRank\n",
    "\n",
    "The history of web search is a fascinating story of innovation, trial and error, and groundbreaking breakthroughs. Below is a simplified timeline showing the key developments that led to the invention of the PageRank algorithm.\n",
    "\n",
    "---\n",
    "\n",
    "### 🕰️ Web Search Evolution Timeline\n",
    "\n",
    "| Year | Milestone | Description |\n",
    "|------|-----------|-------------|\n",
    "| **1994** | **AltaVista** | One of the first popular full-text web search engines. Used keyword-based ranking. Powerful, but easily manipulated and not very relevant for many queries. |\n",
    "| **1996** | **RankDex (Robin Li)** | Introduced the idea of ranking pages based on link analysis. RankDex used the link structure of the web as a signal of relevance—an idea that directly influenced PageRank. |\n",
    "| **1998** | **PageRank (Page & Brin)** | Developed at Stanford, PageRank formalized a mathematical model using a random surfer and eigenvector centrality to rank web pages based on link authority. |\n",
    "| **1998** | **Google Founded** | Built on the foundation of PageRank, Google launched with the promise of more relevant and authoritative search results. This approach soon revolutionized the web. |\n"
   ]
  },
  {
   "cell_type": "markdown",
   "id": "78278445-8f0b-402b-9b90-50ff7ceb48eb",
   "metadata": {},
   "source": [
    "---"
   ]
  },
  {
   "cell_type": "markdown",
   "id": "f955335b-5b6a-4d5c-b9e4-0685d07e9940",
   "metadata": {},
   "source": [
    "## 🧾 Key Insights from “The Anatomy of a Large-Scale Hypertextual Web Search Engine” (1998)"
   ]
  },
  {
   "cell_type": "markdown",
   "id": "062108aa-9aa7-49cc-b14b-9ee058af166e",
   "metadata": {},
   "source": [
    "As I mentioned a little while ago in 1998, Larry Page and Sergey Brin published a paper titled \"**The Anatomy of a Large-Scale Hypertextual Web Search Engine.**\" This work introduced **Google** to the world and laid the foundation for modern web search engines. At the heart of their prototype was a novel ranking algorithm called **PageRank**, which changed the way search results were ordered on the web.\n",
    "\n",
    "**In this section, we will introduce you to the most important things from fondational paper.**\n",
    "\n",
    "Part of their abstract theiy said:\n",
    "\n",
    "> *“Apart from the problems of scaling\n",
    "traditional search techniques to data of this magnitude, there are new technical challenges involved\n",
    "with using the additional information present in hypertext to produce better search results. This\n",
    "paper addresses this question of how to build a practical large-scale system which can exploit the\n",
    "additional information present in hypertext. Also we look at the problem of how to effectively deal\n",
    "with uncontrolled hypertext collections where anyone can publish anything they want.”*\n",
    "\n",
    "This is their introduction of the project they made:\n",
    "> *“\n",
    "The web creates new challenges for information retrieval. The amount of information on the web is\n",
    "growing rapidly, as well as the number of new users inexperienced in the art of web research. People are\n",
    "likely to surf the web using its link graph, often starting with high quality human maintained indices\n",
    "such as Yahoo! or with search engines. Human maintained lists cover popular topics effectively but are\n",
    "subjective, expensive to build and maintain, slow to improve, and cannot cover all esoteric topics.\n",
    "Automated search engines that rely on keyword matching usually return too many low quality matches.\n",
    "To make matters worse, some advertisers attempt to gain people’s attention by taking measures meant to\n",
    "mislead automated search engines. We have built a large-scale search engine which addresses many of\n",
    "the problems of existing systems. It makes especially heavy use of the additional structure present in\n",
    "hypertext to provide much higher quality search results. We chose our system name, Google, because it\n",
    "is a common spelling of googol, or 10100 and fits well with our goal of building very large-scale search\n",
    "engines.”*\n",
    "\n",
    "Their words about making **PageRank** Algorithm:\n",
    "> *“Creating a search engine which scales even to today’s web presents many challenges. Fast crawling\n",
    "technology is needed to gather the web documents and keep them up to date. Storage space must be used\n",
    "efficiently to store indices and, optionally, the documents themselves. The indexing system must process\n",
    "hundreds of gigabytes of data efficiently. Queries must be handled quickly, at a rate of hundreds to\n",
    "thousands per second.\n",
    "These tasks are becoming increasingly difficult as the Web grows. However, hardware performance and\n",
    "cost have improved dramatically to partially offset the difficulty. There are, however, several notable\n",
    "exceptions to this progress such as disk seek time and operating system robustness. In designing Google,\n",
    "we have considered both the rate of growth of the Web and technological changes. Google is designed to\n",
    "scale well to extremely large data sets. It makes efficient use of storage space to store the index. Its data\n",
    "structures are optimized for fast and efficient access (see section 4.2). Further, we expect that the cost to\n",
    "index and store text or HTML will eventually decline relative to the amount that will be available (see\n",
    "Appendix B). This will result in favorable scaling properties for centralized systems like Google.”*\n",
    "\n",
    "Here you can see their **Design Goals**:\n",
    "> *“Our main goal is to improve the quality of web search engines. In 1994, some people believed that a\n",
    "complete search index would make it possible to find anything easily. According to Best of the Web\n",
    "1994 -- Navigators, \"The best navigation service should make it easy to find almost anything on the\n",
    "Web (once all the data is entered).\" However, the Web of 1997 is quite different. Anyone who has used\n",
    "a search engine recently, can readily testify that the completeness of the index is not the only factor in\n",
    "the quality of search results. \"Junk results\" often wash out any results that a user is interested in. In fact,\n",
    "as of November 1997, only one of the top four commercial search engines finds itself (returns its own\n",
    "search page in response to its name in the top ten results). One of the main causes of this problem is that\n",
    "the number of documents in the indices has been increasing by many orders of magnitude, but the user’s\n",
    "ability to look at documents has not. People are still only willing to look at the first few tens of results.\n",
    "Because of this, as the collection size grows, we need tools that have very high precision (number of\n",
    "relevant documents returned, say in the top tens of results). Indeed, we want our notion of \"relevant\" to\n",
    "only include the very best documents since there may be tens of thousands of slightly relevant\n",
    "documents. This very high precision is important even at the expense of recall (the total number of\n",
    "relevant documents the system is able to return). There is quite a bit of recent optimism that the use of\n",
    "more hypertextual information can help improve search and other applications \\[Marchiori 97\\] \\[Spertus\n",
    "97\\] \\[Weiss 96\\] \\[Kleinberg 98\\]. In particular, link structure \\[Page 98\\] and link text provide a lot of\n",
    "information for making relevance judgments and quality filtering. Google makes use of both link\n",
    "structure and anchor text (see Sections 2.1 and 2.2).\n",
    "Another important design goal was to build systems that reasonable numbers of people can actually use.\n",
    "Usage was important to us because we think some of the most interesting research will involve\n",
    "leveraging the vast amount of usage data that is available from modern web systems. For example, there\n",
    "are many tens of millions of searches performed every day. However, it is very difficult to get this data,\n",
    "mainly because it is considered commercially valuable.\n",
    "Our final design goal was to build an architecture that can support novel research activities on\n",
    "large-scale web data. To support novel research uses, Google stores all of the actual documents it crawls\n",
    "in compressed form. One of our main goals in designing Google was to set up an environment where\n",
    "other researchers can come in quickly, process large chunks of the web, and produce interesting results\n",
    "that would have been very difficult to produce otherwise. In the short time the system has been up, there\n",
    "have already been several papers using databases generated by Google, and many others are underway.\n",
    "Another goal we have is to set up a Spacelab-like environment where researchers or even students can\n",
    "propose and do interesting experiments on our large-scale web data. \n",
    "> ”*\n",
    "\n",
    "\n",
    "\n"
   ]
  },
  {
   "cell_type": "markdown",
   "id": "7af1d128-bc21-4401-b1cf-b5c314372095",
   "metadata": {},
   "source": [
    "## **Why PageRank Was Revolutionary?**\n"
   ]
  },
  {
   "cell_type": "markdown",
   "id": "d4485aa5-fea1-4ae9-8c10-62dd545bda2e",
   "metadata": {},
   "source": [
    "How i mentonied before most search engines focused only on matching words, not on evaluating the importance of pages.PageRank introduced a completely new way of thinking about web pages. Instead of treating every page as equal, it looked at how other pages linked to it:\n",
    "A page is important if important pages link to it.\n",
    "\n"
   ]
  },
  {
   "cell_type": "markdown",
   "id": "4f945fbf-1d38-476a-a6d0-3b9c26452f1f",
   "metadata": {},
   "source": [
    "The PageRank algorithm is based on the idea of a \"random surfer\" — someone who starts on a web page and randomly follows links:\n",
    "\n",
    "Sometimes they click a link on the page.\n",
    "\n",
    "Sometimes they get bored and jump to a random new page.\n",
    "\n",
    "By simulating this behavior across the web, PageRank calculates the steady-state probability of landing on any given page. That value becomes the page’s ranking score."
   ]
  },
  {
   "cell_type": "markdown",
   "id": "725045f6-db25-48f4-8efe-1c737eec0c08",
   "metadata": {},
   "source": [
    "## 🌍 **Impact of the PageRank Algorithm**"
   ]
  },
  {
   "cell_type": "markdown",
   "id": "c33f1742-4b11-4177-8168-aee8cb5f6cdc",
   "metadata": {},
   "source": [
    "The introduction of the PageRank algorithm by Larry Page and Sergey Brin was a turning point in the history of the internet. It didn’t just improve search — it transformed how we interact with information, and laid the foundation for many fields in modern computing."
   ]
  },
  {
   "cell_type": "markdown",
   "id": "a2b4518f-47ae-4ad4-bb43-9e81b3148cba",
   "metadata": {},
   "source": [
    "**Points of impact**:"
   ]
  },
  {
   "cell_type": "markdown",
   "id": "0b3e4f55-2da5-44ee-bcc8-45f22c89431c",
   "metadata": {},
   "source": [
    "\n",
    "### 1. Revolutionized Search Engines\n",
    "- **Authority-based ranking** \n",
    "- **Harder to manipulate**\n",
    "- **Better user experience**\n",
    "---\n",
    "\n",
    "### 2. Academic & Scientific Influence\n",
    "- It sparked research in **graph theory**, **stochastic processes**, and **network science**.\n",
    "- It’s now a standard part of **information retrieval**, **machine learning**, and **data science** curricula.\n",
    "- It inspired related algorithms based on **eigenvector centrality**, **random walks**, and **spectral graph theory**.\n",
    "Its mathematical elegance and practical power made it a landmark algorithm.\n",
    "---\n",
    "\n",
    "### 3. Birth of the Attention Economy\n",
    "Webmasters and creators began optimizing their pages for **links from authoritative sites**.\n",
    "**Search engine optimization (SEO)** became a major industry, focused on visibility and link-building.\n",
    "This contributed to the rise of the **attention economy**, where visibility equates to value.\n",
    "\n",
    "---\n",
    "\n",
    "###  4. Foundation for Ranking Systems Everywhere\n",
    "PageRank’s influence spread far beyond web search:\n",
    "\n",
    "- **Recommendation systems**: Early **YouTube** and **Netflix** systems used similar link- or graph-based models.\n",
    "- **Scientific publishing**: Metrics like **Eigenfactor** and **Article Influence Score** borrow from PageRank.\n",
    "- **Social media**: Ranking tweets, posts, or influencers often involves centrality and link-based algorithms.\n",
    "- **E-commerce**: Product rankings, seller reputations, and trust scores all use variants of this idea.\n",
    "\n",
    "Any domain with a network structure benefits from PageRank-style reasoning.\n",
    "\n",
    "---\n",
    "\n",
    "###  5. The Rise of Google as a Tech Giant\n",
    "\n",
    "At the business level, PageRank changed everything:\n",
    "\n",
    "- It turned Google from a **PhD research project** into a **global company**.\n",
    "- It gave Google a technological advantage that allowed it to scale and monetize effectively.\n",
    "- Its commitment to **relevance over paid placement** earned it widespread trust and adoption."
   ]
  },
  {
   "cell_type": "markdown",
   "id": "ce9cf8c4-03cd-4fdf-a00d-a0cc7c46fd10",
   "metadata": {},
   "source": [
    "\n"
   ]
  },
  {
   "cell_type": "code",
   "execution_count": null,
   "id": "e3439e9a-0733-4e4d-ae19-a38de3184490",
   "metadata": {},
   "outputs": [],
   "source": []
  }
 ],
 "metadata": {
  "kernelspec": {
   "display_name": "Python [conda env:base] *",
   "language": "python",
   "name": "conda-base-py"
  },
  "language_info": {
   "codemirror_mode": {
    "name": "ipython",
    "version": 3
   },
   "file_extension": ".py",
   "mimetype": "text/x-python",
   "name": "python",
   "nbconvert_exporter": "python",
   "pygments_lexer": "ipython3",
   "version": "3.12.7"
  }
 },
 "nbformat": 4,
 "nbformat_minor": 5
}
